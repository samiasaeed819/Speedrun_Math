{
 "cells": [
  {
   "cell_type": "code",
   "execution_count": 18,
   "metadata": {},
   "outputs": [
    {
     "name": "stdout",
     "output_type": "stream",
     "text": [
      "3\n"
     ]
    }
   ],
   "source": [
    "myList = [1,2,3,4,5,6,7,8]\n",
    "print(myList[2])\n",
    "\n"
   ]
  },
  {
   "cell_type": "code",
   "execution_count": 19,
   "metadata": {},
   "outputs": [],
   "source": [
    "def even_counter(glist):\n",
    "    counter = 0\n",
    "    for num in glist:\n",
    "        if num % 2 == 0:\n",
    "            counter += 1\n",
    "        else:\n",
    "            pass\n",
    "    return counter"
   ]
  },
  {
   "cell_type": "code",
   "execution_count": 20,
   "metadata": {},
   "outputs": [
    {
     "data": {
      "text/plain": [
       "4"
      ]
     },
     "execution_count": 20,
     "metadata": {},
     "output_type": "execute_result"
    }
   ],
   "source": [
    "even_counter(myList)"
   ]
  },
  {
   "cell_type": "code",
   "execution_count": 21,
   "metadata": {},
   "outputs": [
    {
     "name": "stdout",
     "output_type": "stream",
     "text": [
      "0 0\n",
      "0 1\n",
      "0 2\n",
      "0 3\n",
      "1 1\n",
      "1 2\n",
      "1 3\n",
      "2 2\n",
      "2 3\n",
      "3 3\n"
     ]
    }
   ],
   "source": [
    "xlist = [0,1,2,3]\n",
    "n= len(xlist)\n",
    "for i in range(n):\n",
    "    for j in range(i,n):\n",
    "        print(xlist[i], xlist[j])\n",
    "    \n"
   ]
  },
  {
   "cell_type": "code",
   "execution_count": 1,
   "metadata": {},
   "outputs": [
    {
     "name": "stdout",
     "output_type": "stream",
     "text": [
      "Time taken: 0.05266213417053223 seconds\n"
     ]
    }
   ],
   "source": [
    "import numpy as np\n",
    "import time\n",
    "\n",
    "start_time = time.time()\n",
    "one_array = np.random.randint(0, 100000, size=100000)\n",
    "one_array = list(one_array)\n",
    "end_time = time.time()\n",
    "\n",
    "print(f\"Time taken: {end_time - start_time} seconds\")"
   ]
  },
  {
   "cell_type": "code",
   "execution_count": 23,
   "metadata": {},
   "outputs": [],
   "source": [
    "\n",
    "def bubbleSort(my_array):\n",
    "    n=len(my_array)\n",
    "    for i in range(n-1):\n",
    "        for j in range(n-i-1):\n",
    "            if my_array[j] > my_array[j+1]:\n",
    "                my_array[j], my_array[j+1] = my_array[j+1], my_array[j]\n",
    "    return my_array\n"
   ]
  },
  {
   "cell_type": "code",
   "execution_count": null,
   "metadata": {},
   "outputs": [],
   "source": [
    "start = time.time()\n",
    "bubbleSort(one_array)\n",
    "end = time.time()\n",
    "print(end-start)\n",
    "\n"
   ]
  },
  {
   "cell_type": "code",
   "execution_count": 6,
   "metadata": {},
   "outputs": [],
   "source": [
    "def selection_sort(my_array):\n",
    "    n = len(my_array)\n",
    "    for i in range(n-1):\n",
    "        min_index = i\n",
    "        for j in range(i+1,n):\n",
    "            if my_array[j] < my_array[min_index]:\n",
    "                min_index = j\n",
    "        min_value = my_array.pop(min_index)\n",
    "        my_array.insert(i,min_value)\n",
    "    return my_array"
   ]
  },
  {
   "cell_type": "code",
   "execution_count": 7,
   "metadata": {},
   "outputs": [
    {
     "name": "stdout",
     "output_type": "stream",
     "text": [
      "560.9116170406342\n"
     ]
    }
   ],
   "source": []
  },
  {
   "cell_type": "code",
   "execution_count": 12,
   "metadata": {},
   "outputs": [],
   "source": [
    "\n",
    "def insertion_sort(my_array):\n",
    "    n = len(my_array)\n",
    "    for i in range(1,n):\n",
    "        insert_index = i\n",
    "        current_value = my_array.pop(i)\n",
    "        for j in range(i-1, -1, -1):\n",
    "            if my_array[j] > current_value:\n",
    "                insert_index = j\n",
    "        my_array.insert(insert_index, current_value)\n"
   ]
  },
  {
   "cell_type": "code",
   "execution_count": 13,
   "metadata": {},
   "outputs": [
    {
     "name": "stdout",
     "output_type": "stream",
     "text": [
      "519.5806353092194\n"
     ]
    }
   ],
   "source": [
    "start = time.time()\n",
    "insertion_sort(one_array)\n",
    "end = time.time()\n",
    "print(end-start)"
   ]
  },
  {
   "cell_type": "code",
   "execution_count": 9,
   "metadata": {},
   "outputs": [],
   "source": [
    "def quick_sort(arr):\n",
    "    if len(arr) <=1:\n",
    "        return arr\n",
    "    p = arr[-1]\n",
    "    left = [\n",
    "        x for x in arr[:-1] if x <= p\n",
    "        ]\n",
    "    right = [\n",
    "        x for x in arr[:-1] if x > p\n",
    "        ]\n",
    "\n",
    "    left = quick_sort(left)\n",
    "    right = quick_sort(right)\n",
    "\n",
    "    return left + [p] + right\n",
    "\n",
    "\n",
    "\n",
    "\n",
    "\n"
   ]
  },
  {
   "cell_type": "code",
   "execution_count": null,
   "metadata": {},
   "outputs": [],
   "source": [
    "start = time.time()\n",
    "quick_sort(one_array)\n",
    "end = time.time()\n",
    "print(end-start)"
   ]
  },
  {
   "cell_type": "code",
   "execution_count": 2,
   "metadata": {},
   "outputs": [],
   "source": [
    "def merge_sort(arr):\n",
    "  n = len(arr)\n",
    "  \n",
    "  if n == 1:\n",
    "    return arr\n",
    "  m = len(arr) // 2\n",
    "  L = arr[:m]\n",
    "  R = arr[m:]\n",
    "  L = merge_sort(L)\n",
    "  R = merge_sort(R)\n",
    "  l, r = 0, 0\n",
    "  L_len = len(L)\n",
    "  R_len = len(R)\n",
    "\n",
    "  sorted_arr = [0] * n\n",
    "  i = 0\n",
    "  while l < L_len and r < R_len:\n",
    "    if L[l] < R[r]:\n",
    "      sorted_arr[i] = L[l]\n",
    "      l += 1\n",
    "    else:\n",
    "      sorted_arr[i] = R[r]\n",
    "      r += 1\n",
    "\n",
    "    i += 1\n",
    "  while l < L_len:\n",
    "    sorted_arr[i] = L[l]\n",
    "    l += 1\n",
    "    i += 1\n",
    "\n",
    "  while r < R_len:\n",
    "    sorted_arr[i] = R[r]\n",
    "    r += 1\n",
    "    i += 1\n",
    "  return sorted_arr\n",
    "\n"
   ]
  },
  {
   "cell_type": "code",
   "execution_count": 3,
   "metadata": {},
   "outputs": [
    {
     "name": "stdout",
     "output_type": "stream",
     "text": [
      "0.5957455635070801\n"
     ]
    }
   ],
   "source": [
    "start = time.time()\n",
    "merge_sort(one_array)\n",
    "end = time.time()\n",
    "print(end-start)"
   ]
  },
  {
   "cell_type": "code",
   "execution_count": 4,
   "metadata": {},
   "outputs": [],
   "source": [
    "def counting_sort(arr):\n",
    "    n =len(arr)\n",
    "    maxx = max(arr)\n",
    "    counts = [0] * (maxx +1)\n",
    "\n",
    "    for x in arr:\n",
    "        counts[x] += 1\n",
    "    \n",
    "    i = 0\n",
    "    for c in range(maxx+1):\n",
    "        while counts[c] > 0:\n",
    "            arr[i] = c\n",
    "            i+=1\n",
    "            counts[c] -=1\n"
   ]
  },
  {
   "cell_type": "code",
   "execution_count": 5,
   "metadata": {},
   "outputs": [
    {
     "name": "stdout",
     "output_type": "stream",
     "text": [
      "0.041263580322265625\n"
     ]
    }
   ],
   "source": [
    "start = time.time()\n",
    "counting_sort(one_array)\n",
    "end = time.time()\n",
    "print(end-start)"
   ]
  }
 ],
 "metadata": {
  "kernelspec": {
   "display_name": "base",
   "language": "python",
   "name": "python3"
  },
  "language_info": {
   "codemirror_mode": {
    "name": "ipython",
    "version": 3
   },
   "file_extension": ".py",
   "mimetype": "text/x-python",
   "name": "python",
   "nbconvert_exporter": "python",
   "pygments_lexer": "ipython3",
   "version": "3.10.9"
  }
 },
 "nbformat": 4,
 "nbformat_minor": 2
}

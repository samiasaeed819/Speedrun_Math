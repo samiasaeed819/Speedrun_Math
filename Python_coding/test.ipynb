{
 "cells": [
  {
   "cell_type": "code",
   "execution_count": 5,
   "metadata": {},
   "outputs": [
    {
     "name": "stdout",
     "output_type": "stream",
     "text": [
      "0 / 5 = ? 0 0\n",
      "8 / 5 = ? 1 3\n",
      "8 / 2 = ? 4 0\n",
      "1 / 8 = ? 0 1\n",
      "10 / 10 = ? 1 0\n",
      "9 / 3 = ? 3 0\n",
      "5 / 3 = ? 1 2\n",
      "10 / 1 = ? 10 0\n"
     ]
    },
    {
     "ename": "ZeroDivisionError",
     "evalue": "division by zero",
     "output_type": "error",
     "traceback": [
      "\u001b[1;31m---------------------------------------------------------------------------\u001b[0m",
      "\u001b[1;31mZeroDivisionError\u001b[0m                         Traceback (most recent call last)",
      "Cell \u001b[1;32mIn[5], line 6\u001b[0m\n\u001b[0;32m      4\u001b[0m b \u001b[38;5;241m=\u001b[39m random\u001b[38;5;241m.\u001b[39mrandint(\u001b[38;5;241m0\u001b[39m, \u001b[38;5;241m10\u001b[39m)\n\u001b[0;32m      5\u001b[0m \u001b[38;5;66;03m# a / b = ?\u001b[39;00m\n\u001b[1;32m----> 6\u001b[0m c \u001b[38;5;241m=\u001b[39m \u001b[38;5;28mint\u001b[39m(\u001b[43ma\u001b[49m\u001b[38;5;241;43m/\u001b[39;49m\u001b[43mb\u001b[49m)\n\u001b[0;32m      7\u001b[0m d \u001b[38;5;241m=\u001b[39m \u001b[38;5;28mint\u001b[39m(a \u001b[38;5;241m%\u001b[39mb)\n\u001b[0;32m      8\u001b[0m \u001b[38;5;28;01mif\u001b[39;00m c \u001b[38;5;241m<\u001b[39m\u001b[38;5;241m=\u001b[39m \u001b[38;5;241m10\u001b[39m:\n",
      "\u001b[1;31mZeroDivisionError\u001b[0m: division by zero"
     ]
    }
   ],
   "source": [
    "import random\n",
    "for _ in range(100):\n",
    "        a = random.randint(0, 10)\n",
    "        b = random.randint(0, 10)\n",
    "        # a / b = ?\n",
    "        c = int(a/b)\n",
    "        d = int(a %b)\n",
    "        if c <= 10:\n",
    "            if b != 0:    \n",
    "                print(f\"{a} / {b} = ?\", c, d)\n",
    "                "
   ]
  }
 ],
 "metadata": {
  "kernelspec": {
   "display_name": "Python 3",
   "language": "python",
   "name": "python3"
  },
  "language_info": {
   "codemirror_mode": {
    "name": "ipython",
    "version": 3
   },
   "file_extension": ".py",
   "mimetype": "text/x-python",
   "name": "python",
   "nbconvert_exporter": "python",
   "pygments_lexer": "ipython3",
   "version": "3.11.9"
  }
 },
 "nbformat": 4,
 "nbformat_minor": 2
}

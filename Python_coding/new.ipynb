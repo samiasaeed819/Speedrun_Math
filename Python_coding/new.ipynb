{
 "cells": [
  {
   "cell_type": "code",
   "execution_count": 2,
   "metadata": {},
   "outputs": [
    {
     "name": "stdout",
     "output_type": "stream",
     "text": [
      "Jms\n"
     ]
    }
   ],
   "source": [
    "str=\"James\"\n",
    "print(str[::2])"
   ]
  },
  {
   "cell_type": "code",
   "execution_count": null,
   "metadata": {},
   "outputs": [
    {
     "name": "stdout",
     "output_type": "stream",
     "text": [
      "ipP\n"
     ]
    }
   ],
   "source": []
  },
  {
   "cell_type": "code",
   "execution_count": 41,
   "metadata": {},
   "outputs": [
    {
     "name": "stdout",
     "output_type": "stream",
     "text": [
      "Dip\n",
      "Son\n"
     ]
    }
   ],
   "source": [
    "one = \"JhopmDipPeta\"\n",
    "two = \"JaSonAy\"\n",
    "def middlestr(string):\n",
    "    x = len(string) \n",
    "    y = x/2\n",
    "    y=int(y)\n",
    "    if y > 0:\n",
    "        result = string[y-1:y+2]\n",
    "    else:\n",
    "        pass\n",
    "    return result\n",
    "\n",
    "print (middlestr(one))\n",
    "print (middlestr(two))"
   ]
  },
  {
   "cell_type": "code",
   "execution_count": 43,
   "metadata": {},
   "outputs": [
    {
     "data": {
      "text/plain": [
       "'auKellylt'"
      ]
     },
     "execution_count": 43,
     "metadata": {},
     "output_type": "execute_result"
    }
   ],
   "source": [
    "s1 =\"ault\"\n",
    "s2=\"Kelly\"\n",
    "\n",
    "def newstr(string,string2):\n",
    "    n = len(string)\n",
    "    mid = int(n/2)\n",
    "    new_string = string[:mid:] + string2 + string[mid::]\n",
    "\n",
    "    return new_string\n",
    "\n",
    "newstr(s1,s2)\n",
    "\n"
   ]
  },
  {
   "cell_type": "code",
   "execution_count": null,
   "metadata": {},
   "outputs": [],
   "source": [
    "s1 = \"America\"\n",
    "print()"
   ]
  },
  {
   "cell_type": "code",
   "execution_count": null,
   "metadata": {},
   "outputs": [
    {
     "name": "stdout",
     "output_type": "stream",
     "text": [
      "2\n"
     ]
    }
   ],
   "source": [
    "\n"
   ]
  },
  {
   "cell_type": "code",
   "execution_count": 31,
   "metadata": {},
   "outputs": [
    {
     "data": {
      "text/plain": [
       "'ICdiaA'"
      ]
     },
     "execution_count": 31,
     "metadata": {},
     "output_type": "execute_result"
    }
   ],
   "source": [
    "s1 = \"India\"\n",
    "s2=\"ChinA\"\n",
    "def newstr(str1,str2):\n",
    "    firstchar = str1[0]+str2[0]\n",
    "    #middle\n",
    "    mid = int(len(str1)/2)\n",
    "    mid2= int(len(str2)/2)\n",
    "    midchar = str1[mid:mid+1] + str2[mid2:mid2+1]\n",
    "    #last\n",
    "    lastchar=  s1[-1]+s2[-1]\n",
    "    #netstr\n",
    "    newstring = firstchar + midchar + lastchar\n",
    "\n",
    "    return newstring\n",
    "\n",
    "\n",
    "\n",
    "\n",
    "newstr(s1,s2)\n"
   ]
  },
  {
   "cell_type": "code",
   "execution_count": 37,
   "metadata": {},
   "outputs": [
    {
     "name": "stdout",
     "output_type": "stream",
     "text": [
      "yaivePNT\n"
     ]
    }
   ],
   "source": [
    "s1 = \"PyNaTive\"\n",
    "lower = []\n",
    "upper = []\n",
    "\n",
    "for char in s1:\n",
    "    if char.islower() :\n",
    "        lower.append(char)\n",
    "    else:\n",
    "        upper.append(char)\n",
    "\n",
    "sort= \"\".join(lower+upper)\n",
    "print(sort)\n"
   ]
  },
  {
   "cell_type": "code",
   "execution_count": null,
   "metadata": {},
   "outputs": [
    {
     "data": {
      "text/plain": [
       "'AzbycX'"
      ]
     },
     "execution_count": 39,
     "metadata": {},
     "output_type": "execute_result"
    }
   ],
   "source": [
    "s1 = \"Abc\"\n",
    "s2=\"Xyz\"\n",
    "def newstr(str1,str2):\n",
    "    for i in range(len(str1)):\n",
    "        result = str1[0]+str2[-1]\n",
    "    return newstring\n",
    "\n",
    "\n",
    "\n",
    "\n",
    "newstr(s1,s2)"
   ]
  },
  {
   "cell_type": "code",
   "execution_count": 40,
   "metadata": {},
   "outputs": [],
   "source": [
    "hello = \"heloo\"\n",
    "hello_list = [i for i in hello]\n"
   ]
  },
  {
   "cell_type": "code",
   "execution_count": 41,
   "metadata": {},
   "outputs": [
    {
     "data": {
      "text/plain": [
       "['h', 'e', 'l', 'o', 'o']"
      ]
     },
     "execution_count": 41,
     "metadata": {},
     "output_type": "execute_result"
    }
   ],
   "source": [
    "hello_list"
   ]
  }
 ],
 "metadata": {
  "kernelspec": {
   "display_name": "base",
   "language": "python",
   "name": "python3"
  },
  "language_info": {
   "codemirror_mode": {
    "name": "ipython",
    "version": 3
   },
   "file_extension": ".py",
   "mimetype": "text/x-python",
   "name": "python",
   "nbconvert_exporter": "python",
   "pygments_lexer": "ipython3",
   "version": "3.10.9"
  }
 },
 "nbformat": 4,
 "nbformat_minor": 2
}
